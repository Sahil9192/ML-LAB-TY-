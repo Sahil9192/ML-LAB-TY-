{
 "cells": [
  {
   "cell_type": "code",
   "execution_count": 14,
   "id": "b469d286-2ae1-4df6-b79b-2bff2d2123f0",
   "metadata": {},
   "outputs": [],
   "source": [
    "import numpy as np\n",
    "import matplotlib.pyplot as plt "
   ]
  },
  {
   "cell_type": "code",
   "execution_count": 15,
   "id": "07d6b26b-c427-4375-9333-642a6c5175e3",
   "metadata": {},
   "outputs": [],
   "source": [
    "X = np.array([1, 2, 3, 4, 5], dtype=float)\n",
    "Y = np.array([5, 7, 9, 11, 13], dtype=float)"
   ]
  },
  {
   "cell_type": "code",
   "execution_count": 16,
   "id": "a0c746bd-e158-408f-a1dc-03946424c2ab",
   "metadata": {},
   "outputs": [],
   "source": [
    "w = 0.0 \n",
    "b = 0.0  \n",
    "learning_rate = 0.01\n",
    "epochs = 1000"
   ]
  },
  {
   "cell_type": "code",
   "execution_count": null,
   "id": "7cf2d181-9bcc-4b28-8784-c72c3eda00d1",
   "metadata": {},
   "outputs": [],
   "source": [
    "def mse_loss(y_true, y_pred):\n",
    "    return np.mean((y_true-y_pred)**2)\n",
    "\n",
    "for epoch in range(epochs):\n",
    "    Y_pred = w * X + b\n",
    "    loss = mse_loss(Y, Y_pred)\n",
    "\n",
    "    dw = -2 * np.mean(X * (Y - Y_pred))\n",
    "    db = -2 * np.mean(Y - Y_pred) "
   ]
  }
 ],
 "metadata": {
  "kernelspec": {
   "display_name": "Python 3 (ipykernel)",
   "language": "python",
   "name": "python3"
  },
  "language_info": {
   "codemirror_mode": {
    "name": "ipython",
    "version": 3
   },
   "file_extension": ".py",
   "mimetype": "text/x-python",
   "name": "python",
   "nbconvert_exporter": "python",
   "pygments_lexer": "ipython3",
   "version": "3.11.5"
  }
 },
 "nbformat": 4,
 "nbformat_minor": 5
}
